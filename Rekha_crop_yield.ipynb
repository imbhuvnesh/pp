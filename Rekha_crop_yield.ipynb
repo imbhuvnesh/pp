{
 "cells": [
  {
   "cell_type": "code",
   "execution_count": null,
   "metadata": {},
   "outputs": [],
   "source": [
    "# !pip3 install -U flask-cors\n",
    "# !pip3 install flask\n",
    "# !pip3 install pandas\n",
    "\n",
    "# !python -m pip3 install -U flask-cors\n",
    "# !pip3 install flask\n",
    "# !pip3 install pandas "
   ]
  },
  {
   "cell_type": "code",
   "execution_count": 1,
   "metadata": {},
   "outputs": [],
   "source": [
    "import pandas as pd\n",
    "from flask import Flask\n",
    "from flask import jsonify\n",
    "from flask import request\n",
    "# from flask import get_json\n",
    "from flask_cors import CORS\n"
   ]
  },
  {
   "cell_type": "code",
   "execution_count": 2,
   "metadata": {},
   "outputs": [],
   "source": [
    "df = pd.read_csv('database.csv')"
   ]
  },
  {
   "cell_type": "code",
   "execution_count": 3,
   "metadata": {},
   "outputs": [],
   "source": [
    "new_header = df.iloc[0] \n",
    "df = df[1:]\n",
    "df.columns = new_header\n",
    "res = {}"
   ]
  },
  {
   "cell_type": "code",
   "execution_count": 4,
   "metadata": {},
   "outputs": [
    {
     "data": {
      "text/html": [
       "<div>\n",
       "<style scoped>\n",
       "    .dataframe tbody tr th:only-of-type {\n",
       "        vertical-align: middle;\n",
       "    }\n",
       "\n",
       "    .dataframe tbody tr th {\n",
       "        vertical-align: top;\n",
       "    }\n",
       "\n",
       "    .dataframe thead th {\n",
       "        text-align: right;\n",
       "    }\n",
       "</style>\n",
       "<table border=\"1\" class=\"dataframe\">\n",
       "  <thead>\n",
       "    <tr style=\"text-align: right;\">\n",
       "      <th></th>\n",
       "      <th>Year</th>\n",
       "      <th>Time</th>\n",
       "      <th>Z31</th>\n",
       "      <th>Z121</th>\n",
       "      <th>Z141</th>\n",
       "      <th>Z231</th>\n",
       "      <th>Z251</th>\n",
       "      <th>Z351</th>\n",
       "    </tr>\n",
       "  </thead>\n",
       "  <tbody>\n",
       "    <tr>\n",
       "      <th>1</th>\n",
       "      <td>1985</td>\n",
       "      <td>1</td>\n",
       "      <td>0.00</td>\n",
       "      <td>42.42</td>\n",
       "      <td>4495.84</td>\n",
       "      <td>0.00</td>\n",
       "      <td>-33.13</td>\n",
       "      <td>0.00</td>\n",
       "    </tr>\n",
       "    <tr>\n",
       "      <th>2</th>\n",
       "      <td>1986</td>\n",
       "      <td>2</td>\n",
       "      <td>4.05</td>\n",
       "      <td>63.35</td>\n",
       "      <td>4132.63</td>\n",
       "      <td>23.74</td>\n",
       "      <td>-98.73</td>\n",
       "      <td>240.15</td>\n",
       "    </tr>\n",
       "    <tr>\n",
       "      <th>3</th>\n",
       "      <td>1987</td>\n",
       "      <td>3</td>\n",
       "      <td>-5.89</td>\n",
       "      <td>-0.01</td>\n",
       "      <td>4280.63</td>\n",
       "      <td>-45.06</td>\n",
       "      <td>-223.84</td>\n",
       "      <td>-410.16</td>\n",
       "    </tr>\n",
       "    <tr>\n",
       "      <th>4</th>\n",
       "      <td>1988</td>\n",
       "      <td>4</td>\n",
       "      <td>0.26</td>\n",
       "      <td>54.69</td>\n",
       "      <td>4372.13</td>\n",
       "      <td>-2.71</td>\n",
       "      <td>-33.10</td>\n",
       "      <td>15.77</td>\n",
       "    </tr>\n",
       "    <tr>\n",
       "      <th>5</th>\n",
       "      <td>1989</td>\n",
       "      <td>5</td>\n",
       "      <td>4.76</td>\n",
       "      <td>43.80</td>\n",
       "      <td>4711.42</td>\n",
       "      <td>40.64</td>\n",
       "      <td>-7.90</td>\n",
       "      <td>338.55</td>\n",
       "    </tr>\n",
       "  </tbody>\n",
       "</table>\n",
       "</div>"
      ],
      "text/plain": [
       "0  Year Time    Z31   Z121     Z141    Z231     Z251     Z351\n",
       "1  1985    1   0.00  42.42  4495.84    0.00   -33.13     0.00\n",
       "2  1986    2   4.05  63.35  4132.63   23.74   -98.73   240.15\n",
       "3  1987    3  -5.89  -0.01  4280.63  -45.06  -223.84  -410.16\n",
       "4  1988    4   0.26  54.69  4372.13   -2.71   -33.10    15.77\n",
       "5  1989    5   4.76  43.80  4711.42   40.64    -7.90   338.55"
      ]
     },
     "execution_count": 4,
     "metadata": {},
     "output_type": "execute_result"
    }
   ],
   "source": [
    "df.head()"
   ]
  },
  {
   "cell_type": "code",
   "execution_count": null,
   "metadata": {},
   "outputs": [
    {
     "name": "stdout",
     "output_type": "stream",
     "text": [
      " * Serving Flask app \"__main__\" (lazy loading)\n",
      " * Environment: production\n",
      "\u001b[31m   WARNING: This is a development server. Do not use it in a production deployment.\u001b[0m\n",
      "\u001b[2m   Use a production WSGI server instead.\u001b[0m\n",
      " * Debug mode: off\n"
     ]
    },
    {
     "name": "stderr",
     "output_type": "stream",
     "text": [
      " * Running on http://127.0.0.1:5000/ (Press CTRL+C to quit)\n"
     ]
    }
   ],
   "source": [
    "def calculateCalibrationValidation(f2_cal,f3_cal,f1_val,f2_val,f3_val):\n",
    "    #f2_yield calibration\n",
    "    if (f2_cal):\n",
    "        f2_yield = 1545.24 + float(df.loc[f2_cal]['Z141']) * 0.3971 + float(df.loc[f2_cal]['Z351']) * 0.1693 + f2_cal * 50.53\n",
    "        res[\"f2_yield_calib\"] = round(f2_yield, 2)\n",
    "       \n",
    "    #f3_yield ... calibration\n",
    "    if (f3_cal):\n",
    "        f3_yield = 1406.01+ float(df.loc[f3_cal]['Z231']) * 0.685 + float(df.loc[f3_cal]['Z141']) * 0.353 + f3_cal * 50.11 \n",
    "        res[\"f3_yield_calib\"] =  round(f3_yield, 2)\n",
    "    \n",
    "    #fi_yield...validation\n",
    "    if (f1_val):\n",
    "        f1_yield = 2566.3 + float(df.loc[f1_val]['Z121']) * 2.525 + float(df.loc[f1_val]['Z31']) * 21.8 + f1_val * 47.43 \n",
    "        res[\"f1_yield_valid\"] = round(f1_yield, 2)\n",
    "    \n",
    "    #fi_yield...validation\n",
    "    if (f2_val):\n",
    "        f2_yield = 2327.93 + float(df.loc[f2_val]['Z231']) * 1.15 + float(df.loc[f2_val]['Z251']) * 0.45 + f2_val * 47.60\n",
    "        res[\"f2_yield_valid\"] =   round(f2_yield, 2)  \n",
    "    \n",
    "    #fi_yield...validation\n",
    "    if (f3_val):\n",
    "        f3_yield = 2163.26 + float(df.loc[f3_val]['Z141']) * 0.25 + float(df.loc[f3_val]['Z351']) * 0.16+ f3_val * 48.11\n",
    "        res[\"f3_yield_valid\"] =     round(f3_yield, 2)\n",
    "    \n",
    "    print(\"result is :\" , res)\n",
    "    return res\n",
    "\n",
    "app = Flask(__name__)\n",
    "CORS(app)\n",
    "@app.route('/calc',methods=['POST'])\n",
    "def createEmp():   \n",
    "    f2_cal = request.json['f2_cal']\n",
    "    f3_cal = request.json['f3_cal']\n",
    "    f1_val = request.json['f1_val']\n",
    "    f2_val = request.json['f2_val']\n",
    "    f3_val = request.json['f3_val']\n",
    "    result = calculateCalibrationValidation(f2_cal,f3_cal,f1_val,f2_val,f3_val)\n",
    "    return result\n",
    "if __name__ == '__main__':\n",
    "    app.run()"
   ]
  },
  {
   "cell_type": "code",
   "execution_count": null,
   "metadata": {},
   "outputs": [],
   "source": [
    "# [f2_cal,f3_cal,f1_val,f2_val,f3_val] = int(input()),int(input()),int(input()),int(input()),int(input())\n",
    "# result = calculateCalibrationValidation(f2_cal,f3_cal,f1_val,f2_val,f3_val)\n",
    "# print(result)"
   ]
  },
  {
   "cell_type": "code",
   "execution_count": null,
   "metadata": {},
   "outputs": [],
   "source": []
  },
  {
   "cell_type": "code",
   "execution_count": null,
   "metadata": {},
   "outputs": [],
   "source": []
  },
  {
   "cell_type": "code",
   "execution_count": null,
   "metadata": {},
   "outputs": [],
   "source": []
  }
 ],
 "metadata": {
  "kernelspec": {
   "display_name": "Python 3",
   "language": "python",
   "name": "python3"
  },
  "language_info": {
   "codemirror_mode": {
    "name": "ipython",
    "version": 3
   },
   "file_extension": ".py",
   "mimetype": "text/x-python",
   "name": "python",
   "nbconvert_exporter": "python",
   "pygments_lexer": "ipython3",
   "version": "3.6.9"
  }
 },
 "nbformat": 4,
 "nbformat_minor": 2
}
